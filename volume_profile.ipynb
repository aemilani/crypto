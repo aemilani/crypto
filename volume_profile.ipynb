{
 "cells": [
  {
   "cell_type": "code",
   "execution_count": 1,
   "id": "9b6d9ab6",
   "metadata": {},
   "outputs": [],
   "source": [
    "import datetime\n",
    "import numpy as np\n",
    "import pandas as pd\n",
    "import matplotlib.pyplot as plt\n",
    "from dataset import kline_data\n",
    "from dateutil import parser"
   ]
  },
  {
   "cell_type": "code",
   "execution_count": 2,
   "id": "39ff240e",
   "metadata": {},
   "outputs": [],
   "source": [
    "def volume_profile(df, n_bins=10):\n",
    "    df = df[['open', 'high', 'low', 'close', 'volume']]\n",
    "    high = np.max(df['high'])\n",
    "    low = np.min(df['low'])\n",
    "    d_hl = high - low\n",
    "    d = d_hl / n_bins\n",
    "    coords = np.arange(low, high + 0.1, d)\n",
    "    profile = pd.DataFrame(columns=['price', 'buy_volume', 'sell_volume', 'total_volume'])\n",
    "    profile['price'] = pd.Series(coords).rolling(2).mean().dropna()\n",
    "    buy_candles = df.where(df['close'] - df['open'] >= 0).dropna()\n",
    "    sell_candles = df.where(df['close'] - df['open'] < 0).dropna()\n",
    "    profile['buy_volume'] = np.histogram(buy_candles['close'], bins=coords, weights=buy_candles['volume'])[0]\n",
    "    profile['sell_volume'] = np.histogram(sell_candles['close'], bins=coords, weights=sell_candles['volume'])[0]\n",
    "    profile['total_volume'] = profile['buy_volume'] + profile['sell_volume']\n",
    "    return profile"
   ]
  },
  {
   "cell_type": "code",
   "execution_count": 3,
   "id": "d50eb931",
   "metadata": {},
   "outputs": [],
   "source": [
    "def get_daily_volume_profile(data, date, n_bins=10, interval='1m'):\n",
    "    idx_start = data[data['open_time'] == str(parser.parse(date))].index.values[0]\n",
    "    idx_end = data[data['open_time'] == str(parser.parse(date) + datetime.timedelta(days=1))].index.values[0]\n",
    "    day_data = data.iloc[idx_start:idx_end]\n",
    "    profile = volume_profile(day_data, n_bins=n_bins)\n",
    "    return profile"
   ]
  },
  {
   "cell_type": "code",
   "execution_count": 4,
   "id": "4127ff19",
   "metadata": {},
   "outputs": [],
   "source": [
    "def plot_volume_profile(profile):\n",
    "    plt.figure()\n",
    "    plt.bar(profile['price'], profile['buy_volume'],\n",
    "            width=profile['price'].iloc[-1] - profile['price'].iloc[-2], color='green')\n",
    "    plt.bar(profile['price'], profile['sell_volume'],\n",
    "            width=profile['price'].iloc[-1] - profile['price'].iloc[-2], color='red', bottom=profile['buy_volume'])\n",
    "    plt.show()"
   ]
  },
  {
   "cell_type": "code",
   "execution_count": null,
   "id": "d3524d3f",
   "metadata": {},
   "outputs": [
    {
     "name": "stdout",
     "output_type": "stream",
     "text": [
      "Last saved data candle close time: 2021-08-18 14:50:00\n"
     ]
    }
   ],
   "source": [
    "btc_1m = kline_data(interval='1m')\n",
    "d_hl_p = (btc_1m['high'] - btc_1m['low']) / btc_1m['open']\n",
    "print(f'Mean price percent change in 1m candles: {np.mean(d_hl_p)}')\n",
    "print(f'Std price percent change in 1m candles: {np.std(d_hl_p)}')\n",
    "print(f'Mean + 2 Std: {np.mean(d_hl_p) + 2 * np.std(d_hl_p)}')"
   ]
  },
  {
   "cell_type": "markdown",
   "id": "c890684f",
   "metadata": {},
   "source": [
    "We can use only close price on 1m chart for obtaining volume profile."
   ]
  },
  {
   "cell_type": "code",
   "execution_count": null,
   "id": "ac7c303f",
   "metadata": {},
   "outputs": [],
   "source": [
    "profile = get_daily_volume_profile(btc_1m, '2021/8/7', n_bins=50)\n",
    "plot_volume_profile(profile)"
   ]
  },
  {
   "cell_type": "code",
   "execution_count": null,
   "id": "89e1ada2",
   "metadata": {},
   "outputs": [],
   "source": []
  }
 ],
 "metadata": {
  "kernelspec": {
   "display_name": "Python 3 (ipykernel)",
   "language": "python",
   "name": "python3"
  },
  "language_info": {
   "codemirror_mode": {
    "name": "ipython",
    "version": 3
   },
   "file_extension": ".py",
   "mimetype": "text/x-python",
   "name": "python",
   "nbconvert_exporter": "python",
   "pygments_lexer": "ipython3",
   "version": "3.8.8"
  }
 },
 "nbformat": 4,
 "nbformat_minor": 5
}
