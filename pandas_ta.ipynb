{
 "cells": [
  {
   "cell_type": "code",
   "execution_count": 1,
   "id": "7c4655c8",
   "metadata": {},
   "outputs": [],
   "source": [
    "import numpy as np\n",
    "import pandas as pd\n",
    "import pandas_ta as ta\n",
    "import matplotlib.pyplot as plt\n",
    "import mplfinance as mpf\n",
    "from dataset import kline_data\n",
    "from dateutil import parser"
   ]
  },
  {
   "cell_type": "code",
   "execution_count": 2,
   "id": "a0aa7041",
   "metadata": {},
   "outputs": [
    {
     "name": "stdout",
     "output_type": "stream",
     "text": [
      "Last saved data candle close time: 2022-02-06 21:45:00\n"
     ]
    }
   ],
   "source": [
    "df = kline_data(interval='15m')\n",
    "df = df.set_index(df['open_time'].map(parser.parse))\n",
    "df.drop(columns=['open_time'], inplace=True)"
   ]
  },
  {
   "cell_type": "code",
   "execution_count": 3,
   "id": "43200597",
   "metadata": {},
   "outputs": [],
   "source": [
    "n_data = 120\n",
    "df = df[-n_data:]"
   ]
  },
  {
   "cell_type": "code",
   "execution_count": 4,
   "id": "e4ae790e",
   "metadata": {},
   "outputs": [
    {
     "data": {
      "text/html": [
       "<div>\n",
       "<style scoped>\n",
       "    .dataframe tbody tr th:only-of-type {\n",
       "        vertical-align: middle;\n",
       "    }\n",
       "\n",
       "    .dataframe tbody tr th {\n",
       "        vertical-align: top;\n",
       "    }\n",
       "\n",
       "    .dataframe thead th {\n",
       "        text-align: right;\n",
       "    }\n",
       "</style>\n",
       "<table border=\"1\" class=\"dataframe\">\n",
       "  <thead>\n",
       "    <tr style=\"text-align: right;\">\n",
       "      <th></th>\n",
       "      <th>open</th>\n",
       "      <th>high</th>\n",
       "      <th>low</th>\n",
       "      <th>close</th>\n",
       "      <th>volume</th>\n",
       "      <th>close_time</th>\n",
       "      <th>quote_av</th>\n",
       "      <th>trades</th>\n",
       "      <th>tb_base_av</th>\n",
       "      <th>tb_quote_av</th>\n",
       "      <th>ignore</th>\n",
       "    </tr>\n",
       "    <tr>\n",
       "      <th>open_time</th>\n",
       "      <th></th>\n",
       "      <th></th>\n",
       "      <th></th>\n",
       "      <th></th>\n",
       "      <th></th>\n",
       "      <th></th>\n",
       "      <th></th>\n",
       "      <th></th>\n",
       "      <th></th>\n",
       "      <th></th>\n",
       "      <th></th>\n",
       "    </tr>\n",
       "  </thead>\n",
       "  <tbody>\n",
       "    <tr>\n",
       "      <th>2022-02-06 20:30:00</th>\n",
       "      <td>41699.99</td>\n",
       "      <td>41736.76</td>\n",
       "      <td>41637.97</td>\n",
       "      <td>41644.97</td>\n",
       "      <td>141.40893</td>\n",
       "      <td>2022-02-06 20:45:00</td>\n",
       "      <td>5.896113e+06</td>\n",
       "      <td>5955</td>\n",
       "      <td>68.28770</td>\n",
       "      <td>2.847335e+06</td>\n",
       "      <td>0.0</td>\n",
       "    </tr>\n",
       "    <tr>\n",
       "      <th>2022-02-06 20:45:00</th>\n",
       "      <td>41641.21</td>\n",
       "      <td>41668.08</td>\n",
       "      <td>41500.23</td>\n",
       "      <td>41569.99</td>\n",
       "      <td>182.35900</td>\n",
       "      <td>2022-02-06 21:00:00</td>\n",
       "      <td>7.581419e+06</td>\n",
       "      <td>7324</td>\n",
       "      <td>86.66439</td>\n",
       "      <td>3.602902e+06</td>\n",
       "      <td>0.0</td>\n",
       "    </tr>\n",
       "    <tr>\n",
       "      <th>2022-02-06 21:00:00</th>\n",
       "      <td>41569.99</td>\n",
       "      <td>41616.11</td>\n",
       "      <td>41535.16</td>\n",
       "      <td>41543.70</td>\n",
       "      <td>114.69157</td>\n",
       "      <td>2022-02-06 21:15:00</td>\n",
       "      <td>4.768602e+06</td>\n",
       "      <td>4937</td>\n",
       "      <td>57.81805</td>\n",
       "      <td>2.403825e+06</td>\n",
       "      <td>0.0</td>\n",
       "    </tr>\n",
       "    <tr>\n",
       "      <th>2022-02-06 21:15:00</th>\n",
       "      <td>41543.70</td>\n",
       "      <td>41673.02</td>\n",
       "      <td>41538.34</td>\n",
       "      <td>41650.11</td>\n",
       "      <td>112.60834</td>\n",
       "      <td>2022-02-06 21:30:00</td>\n",
       "      <td>4.685727e+06</td>\n",
       "      <td>4990</td>\n",
       "      <td>61.13167</td>\n",
       "      <td>2.543613e+06</td>\n",
       "      <td>0.0</td>\n",
       "    </tr>\n",
       "    <tr>\n",
       "      <th>2022-02-06 21:30:00</th>\n",
       "      <td>41650.10</td>\n",
       "      <td>41708.86</td>\n",
       "      <td>41636.81</td>\n",
       "      <td>41675.14</td>\n",
       "      <td>123.33787</td>\n",
       "      <td>2022-02-06 21:45:00</td>\n",
       "      <td>5.139973e+06</td>\n",
       "      <td>5704</td>\n",
       "      <td>51.34827</td>\n",
       "      <td>2.139991e+06</td>\n",
       "      <td>0.0</td>\n",
       "    </tr>\n",
       "  </tbody>\n",
       "</table>\n",
       "</div>"
      ],
      "text/plain": [
       "                         open      high       low     close     volume  \\\n",
       "open_time                                                                \n",
       "2022-02-06 20:30:00  41699.99  41736.76  41637.97  41644.97  141.40893   \n",
       "2022-02-06 20:45:00  41641.21  41668.08  41500.23  41569.99  182.35900   \n",
       "2022-02-06 21:00:00  41569.99  41616.11  41535.16  41543.70  114.69157   \n",
       "2022-02-06 21:15:00  41543.70  41673.02  41538.34  41650.11  112.60834   \n",
       "2022-02-06 21:30:00  41650.10  41708.86  41636.81  41675.14  123.33787   \n",
       "\n",
       "                              close_time      quote_av  trades  tb_base_av  \\\n",
       "open_time                                                                    \n",
       "2022-02-06 20:30:00  2022-02-06 20:45:00  5.896113e+06    5955    68.28770   \n",
       "2022-02-06 20:45:00  2022-02-06 21:00:00  7.581419e+06    7324    86.66439   \n",
       "2022-02-06 21:00:00  2022-02-06 21:15:00  4.768602e+06    4937    57.81805   \n",
       "2022-02-06 21:15:00  2022-02-06 21:30:00  4.685727e+06    4990    61.13167   \n",
       "2022-02-06 21:30:00  2022-02-06 21:45:00  5.139973e+06    5704    51.34827   \n",
       "\n",
       "                      tb_quote_av  ignore  \n",
       "open_time                                  \n",
       "2022-02-06 20:30:00  2.847335e+06     0.0  \n",
       "2022-02-06 20:45:00  3.602902e+06     0.0  \n",
       "2022-02-06 21:00:00  2.403825e+06     0.0  \n",
       "2022-02-06 21:15:00  2.543613e+06     0.0  \n",
       "2022-02-06 21:30:00  2.139991e+06     0.0  "
      ]
     },
     "execution_count": 4,
     "metadata": {},
     "output_type": "execute_result"
    }
   ],
   "source": [
    "df.tail()"
   ]
  },
  {
   "cell_type": "code",
   "execution_count": 5,
   "id": "e594824c",
   "metadata": {},
   "outputs": [
    {
     "name": "stdout",
     "output_type": "stream",
     "text": [
      "Pandas TA - Technical Analysis Indicators - v0.3.14b0\n",
      "Total Indicators & Utilities: 205\n",
      "Abbreviations:\n",
      "    aberration, above, above_value, accbands, ad, adosc, adx, alma, amat, ao, aobv, apo, aroon, atr, bbands, below, below_value, bias, bop, brar, cci, cdl_pattern, cdl_z, cfo, cg, chop, cksp, cmf, cmo, coppock, cross, cross_value, cti, decay, decreasing, dema, dm, donchian, dpo, ebsw, efi, ema, entropy, eom, er, eri, fisher, fwma, ha, hilo, hl2, hlc3, hma, hwc, hwma, ichimoku, increasing, inertia, jma, kama, kc, kdj, kst, kurtosis, kvo, linreg, log_return, long_run, macd, mad, massi, mcgd, median, mfi, midpoint, midprice, mom, natr, nvi, obv, ohlc4, pdist, percent_return, pgo, ppo, psar, psl, pvi, pvo, pvol, pvr, pvt, pwma, qqe, qstick, quantile, rma, roc, rsi, rsx, rvgi, rvi, short_run, sinwma, skew, slope, sma, smi, squeeze, squeeze_pro, ssf, stc, stdev, stoch, stochrsi, supertrend, swma, t3, td_seq, tema, thermo, tos_stdevall, trima, trix, true_range, tsi, tsignals, ttm_trend, ui, uo, variance, vhf, vidya, vortex, vp, vwap, vwma, wcp, willr, wma, xsignals, zlma, zscore\n",
      "\n",
      "Candle Patterns:\n",
      "    2crows, 3blackcrows, 3inside, 3linestrike, 3outside, 3starsinsouth, 3whitesoldiers, abandonedbaby, advanceblock, belthold, breakaway, closingmarubozu, concealbabyswall, counterattack, darkcloudcover, doji, dojistar, dragonflydoji, engulfing, eveningdojistar, eveningstar, gapsidesidewhite, gravestonedoji, hammer, hangingman, harami, haramicross, highwave, hikkake, hikkakemod, homingpigeon, identical3crows, inneck, inside, invertedhammer, kicking, kickingbylength, ladderbottom, longleggeddoji, longline, marubozu, matchinglow, mathold, morningdojistar, morningstar, onneck, piercing, rickshawman, risefall3methods, separatinglines, shootingstar, shortline, spinningtop, stalledpattern, sticksandwich, takuri, tasukigap, thrusting, tristar, unique3river, upsidegap2crows, xsidegap3methods\n"
     ]
    }
   ],
   "source": [
    "df.ta.indicators()"
   ]
  },
  {
   "cell_type": "code",
   "execution_count": 6,
   "id": "39c5c663",
   "metadata": {},
   "outputs": [
    {
     "data": {
      "text/plain": [
       "open_time\n",
       "2022-02-05 15:45:00    41770.1875\n",
       "2022-02-05 16:00:00    41695.2125\n",
       "2022-02-05 16:15:00    41614.1600\n",
       "2022-02-05 16:30:00    41563.8250\n",
       "2022-02-05 16:45:00    41375.3325\n",
       "                          ...    \n",
       "2022-02-06 20:30:00    41679.9225\n",
       "2022-02-06 20:45:00    41594.8775\n",
       "2022-02-06 21:00:00    41566.2400\n",
       "2022-02-06 21:15:00    41601.2925\n",
       "2022-02-06 21:30:00    41667.7275\n",
       "Name: OHLC4, Length: 120, dtype: float64"
      ]
     },
     "execution_count": 6,
     "metadata": {},
     "output_type": "execute_result"
    }
   ],
   "source": [
    "df.ta.ohlc4(append=True)"
   ]
  },
  {
   "cell_type": "code",
   "execution_count": 7,
   "id": "6c792e6e",
   "metadata": {},
   "outputs": [
    {
     "data": {
      "text/plain": [
       "open_time\n",
       "2022-02-05 15:45:00             NaN\n",
       "2022-02-05 16:00:00             NaN\n",
       "2022-02-05 16:15:00             NaN\n",
       "2022-02-05 16:30:00             NaN\n",
       "2022-02-05 16:45:00             NaN\n",
       "                           ...     \n",
       "2022-02-06 20:30:00    41584.891925\n",
       "2022-02-06 20:45:00    41584.307536\n",
       "2022-02-06 21:00:00    41582.715083\n",
       "2022-02-06 21:15:00    41585.358021\n",
       "2022-02-06 21:30:00    41588.878883\n",
       "Name: EMA_50, Length: 120, dtype: float64"
      ]
     },
     "execution_count": 7,
     "metadata": {},
     "output_type": "execute_result"
    }
   ],
   "source": [
    "df.ta.ema(length=21, append=True)\n",
    "df.ta.ema(length=50, append=True)"
   ]
  },
  {
   "cell_type": "code",
   "execution_count": 8,
   "id": "6ae5ae8b",
   "metadata": {},
   "outputs": [
    {
     "data": {
      "text/plain": [
       "open_time\n",
       "2022-02-05 15:45:00    41752.660000\n",
       "2022-02-05 16:00:00    41701.776531\n",
       "2022-02-05 16:15:00    41684.205708\n",
       "2022-02-05 16:30:00    41658.421864\n",
       "2022-02-05 16:45:00    41554.156730\n",
       "                           ...     \n",
       "2022-02-06 20:30:00    41553.505106\n",
       "2022-02-06 20:45:00    41553.781081\n",
       "2022-02-06 21:00:00    41553.855617\n",
       "2022-02-06 21:15:00    41554.287846\n",
       "2022-02-06 21:30:00    41555.129560\n",
       "Name: VWAP_D, Length: 120, dtype: float64"
      ]
     },
     "execution_count": 8,
     "metadata": {},
     "output_type": "execute_result"
    }
   ],
   "source": [
    "df.ta.vwap(append=True)"
   ]
  },
  {
   "cell_type": "code",
   "execution_count": 9,
   "id": "8c26aac3",
   "metadata": {},
   "outputs": [
    {
     "data": {
      "text/plain": [
       "open_time\n",
       "2022-02-05 15:45:00    41752.660000\n",
       "2022-02-05 16:00:00    41701.776531\n",
       "2022-02-05 16:15:00    41684.205708\n",
       "2022-02-05 16:30:00    41658.421864\n",
       "2022-02-05 16:45:00    41554.156730\n",
       "                           ...     \n",
       "2022-02-06 20:30:00    41553.505106\n",
       "2022-02-06 20:45:00    41553.781081\n",
       "2022-02-06 21:00:00    41553.855617\n",
       "2022-02-06 21:15:00    41554.287846\n",
       "2022-02-06 21:30:00    41555.129560\n",
       "Name: VWAP_D, Length: 120, dtype: float64"
      ]
     },
     "execution_count": 9,
     "metadata": {},
     "output_type": "execute_result"
    }
   ],
   "source": [
    "df['VWAP_D']"
   ]
  },
  {
   "cell_type": "code",
   "execution_count": 10,
   "id": "68d48f00",
   "metadata": {},
   "outputs": [
    {
     "data": {
      "text/plain": [
       "[<matplotlib.lines.Line2D at 0x15f4fe3d9d0>]"
      ]
     },
     "execution_count": 10,
     "metadata": {},
     "output_type": "execute_result"
    },
    {
     "data": {
      "image/png": "[encoded data removed]",
      "text/plain": [
       "<Figure size 864x576 with 1 Axes>"
      ]
     },
     "metadata": {
      "needs_background": "light"
     },
     "output_type": "display_data"
    }
   ],
   "source": [
    "fig, ax = plt.subplots(1, 1, figsize=(12,8))\n",
    "mpf.plot(df, type='candle', volume=False, ax=ax)\n",
    "ax.plot(np.array(df['VWAP_D']))"
   ]
  },
  {
   "cell_type": "code",
   "execution_count": null,
   "id": "5fc41ff4",
   "metadata": {},
   "outputs": [],
   "source": []
  }
 ],
 "metadata": {
  "kernelspec": {
   "display_name": "Python 3 (ipykernel)",
   "language": "python",
   "name": "python3"
  },
  "language_info": {
   "codemirror_mode": {
    "name": "ipython",
    "version": 3
   },
   "file_extension": ".py",
   "mimetype": "text/x-python",
   "name": "python",
   "nbconvert_exporter": "python",
   "pygments_lexer": "ipython3",
   "version": "3.9.7"
  }
 },
 "nbformat": 4,
 "nbformat_minor": 5
}
