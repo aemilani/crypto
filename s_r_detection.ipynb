{
 "cells": [
  {
   "cell_type": "code",
   "execution_count": 1,
   "id": "2f396951",
   "metadata": {},
   "outputs": [],
   "source": [
    "import numpy as np\n",
    "import pandas as pd\n",
    "import pandas_ta as ta\n",
    "import talib\n",
    "import matplotlib.pyplot as plt\n",
    "import mplfinance as mpf\n",
    "from dataset import kline_data\n",
    "from dateutil import parser"
   ]
  },
  {
   "cell_type": "code",
   "execution_count": 2,
   "id": "9d250f87",
   "metadata": {},
   "outputs": [
    {
     "name": "stdout",
     "output_type": "stream",
     "text": [
      "Last saved data candle close time: 2022-02-06 16:00:00\n"
     ]
    }
   ],
   "source": [
    "df = kline_data(interval='4h')\n",
    "df = df.set_index(df['open_time'].map(parser.parse))\n",
    "df.drop(columns=['open_time'], inplace=True)"
   ]
  },
  {
   "cell_type": "code",
   "execution_count": 3,
   "id": "25261277",
   "metadata": {},
   "outputs": [],
   "source": [
    "n_data = 120\n",
    "df = df[-n_data:]"
   ]
  },
  {
   "cell_type": "code",
   "execution_count": 4,
   "id": "ba34402a",
   "metadata": {},
   "outputs": [
    {
     "data": {
      "text/html": [
       "<div>\n",
       "<style scoped>\n",
       "    .dataframe tbody tr th:only-of-type {\n",
       "        vertical-align: middle;\n",
       "    }\n",
       "\n",
       "    .dataframe tbody tr th {\n",
       "        vertical-align: top;\n",
       "    }\n",
       "\n",
       "    .dataframe thead th {\n",
       "        text-align: right;\n",
       "    }\n",
       "</style>\n",
       "<table border=\"1\" class=\"dataframe\">\n",
       "  <thead>\n",
       "    <tr style=\"text-align: right;\">\n",
       "      <th></th>\n",
       "      <th>open</th>\n",
       "      <th>high</th>\n",
       "      <th>low</th>\n",
       "      <th>close</th>\n",
       "      <th>volume</th>\n",
       "      <th>close_time</th>\n",
       "      <th>quote_av</th>\n",
       "      <th>trades</th>\n",
       "      <th>tb_base_av</th>\n",
       "      <th>tb_quote_av</th>\n",
       "      <th>ignore</th>\n",
       "    </tr>\n",
       "    <tr>\n",
       "      <th>open_time</th>\n",
       "      <th></th>\n",
       "      <th></th>\n",
       "      <th></th>\n",
       "      <th></th>\n",
       "      <th></th>\n",
       "      <th></th>\n",
       "      <th></th>\n",
       "      <th></th>\n",
       "      <th></th>\n",
       "      <th></th>\n",
       "      <th></th>\n",
       "    </tr>\n",
       "  </thead>\n",
       "  <tbody>\n",
       "    <tr>\n",
       "      <th>2022-02-05 20:00:00</th>\n",
       "      <td>41544.90</td>\n",
       "      <td>41771.85</td>\n",
       "      <td>41349.81</td>\n",
       "      <td>41382.59</td>\n",
       "      <td>2559.49834</td>\n",
       "      <td>2022-02-06 00:00:00</td>\n",
       "      <td>1.064149e+08</td>\n",
       "      <td>96663</td>\n",
       "      <td>1281.83092</td>\n",
       "      <td>5.329828e+07</td>\n",
       "      <td>0.0</td>\n",
       "    </tr>\n",
       "    <tr>\n",
       "      <th>2022-02-06 00:00:00</th>\n",
       "      <td>41382.60</td>\n",
       "      <td>41640.00</td>\n",
       "      <td>41340.35</td>\n",
       "      <td>41444.04</td>\n",
       "      <td>2064.25705</td>\n",
       "      <td>2022-02-06 04:00:00</td>\n",
       "      <td>8.570394e+07</td>\n",
       "      <td>97152</td>\n",
       "      <td>974.27570</td>\n",
       "      <td>4.044850e+07</td>\n",
       "      <td>0.0</td>\n",
       "    </tr>\n",
       "    <tr>\n",
       "      <th>2022-02-06 04:00:00</th>\n",
       "      <td>41444.03</td>\n",
       "      <td>41714.18</td>\n",
       "      <td>41305.29</td>\n",
       "      <td>41612.33</td>\n",
       "      <td>2267.93171</td>\n",
       "      <td>2022-02-06 08:00:00</td>\n",
       "      <td>9.412769e+07</td>\n",
       "      <td>95608</td>\n",
       "      <td>1144.79622</td>\n",
       "      <td>4.751772e+07</td>\n",
       "      <td>0.0</td>\n",
       "    </tr>\n",
       "    <tr>\n",
       "      <th>2022-02-06 08:00:00</th>\n",
       "      <td>41612.32</td>\n",
       "      <td>41700.01</td>\n",
       "      <td>41444.00</td>\n",
       "      <td>41522.00</td>\n",
       "      <td>2030.31116</td>\n",
       "      <td>2022-02-06 12:00:00</td>\n",
       "      <td>8.443672e+07</td>\n",
       "      <td>93893</td>\n",
       "      <td>962.75100</td>\n",
       "      <td>4.004399e+07</td>\n",
       "      <td>0.0</td>\n",
       "    </tr>\n",
       "    <tr>\n",
       "      <th>2022-02-06 12:00:00</th>\n",
       "      <td>41522.00</td>\n",
       "      <td>42168.00</td>\n",
       "      <td>41116.56</td>\n",
       "      <td>41519.49</td>\n",
       "      <td>7364.57563</td>\n",
       "      <td>2022-02-06 16:00:00</td>\n",
       "      <td>3.062051e+08</td>\n",
       "      <td>213574</td>\n",
       "      <td>3897.43112</td>\n",
       "      <td>1.621558e+08</td>\n",
       "      <td>0.0</td>\n",
       "    </tr>\n",
       "  </tbody>\n",
       "</table>\n",
       "</div>"
      ],
      "text/plain": [
       "                         open      high       low     close      volume  \\\n",
       "open_time                                                                 \n",
       "2022-02-05 20:00:00  41544.90  41771.85  41349.81  41382.59  2559.49834   \n",
       "2022-02-06 00:00:00  41382.60  41640.00  41340.35  41444.04  2064.25705   \n",
       "2022-02-06 04:00:00  41444.03  41714.18  41305.29  41612.33  2267.93171   \n",
       "2022-02-06 08:00:00  41612.32  41700.01  41444.00  41522.00  2030.31116   \n",
       "2022-02-06 12:00:00  41522.00  42168.00  41116.56  41519.49  7364.57563   \n",
       "\n",
       "                              close_time      quote_av  trades  tb_base_av  \\\n",
       "open_time                                                                    \n",
       "2022-02-05 20:00:00  2022-02-06 00:00:00  1.064149e+08   96663  1281.83092   \n",
       "2022-02-06 00:00:00  2022-02-06 04:00:00  8.570394e+07   97152   974.27570   \n",
       "2022-02-06 04:00:00  2022-02-06 08:00:00  9.412769e+07   95608  1144.79622   \n",
       "2022-02-06 08:00:00  2022-02-06 12:00:00  8.443672e+07   93893   962.75100   \n",
       "2022-02-06 12:00:00  2022-02-06 16:00:00  3.062051e+08  213574  3897.43112   \n",
       "\n",
       "                      tb_quote_av  ignore  \n",
       "open_time                                  \n",
       "2022-02-05 20:00:00  5.329828e+07     0.0  \n",
       "2022-02-06 00:00:00  4.044850e+07     0.0  \n",
       "2022-02-06 04:00:00  4.751772e+07     0.0  \n",
       "2022-02-06 08:00:00  4.004399e+07     0.0  \n",
       "2022-02-06 12:00:00  1.621558e+08     0.0  "
      ]
     },
     "execution_count": 4,
     "metadata": {},
     "output_type": "execute_result"
    }
   ],
   "source": [
    "df.tail()"
   ]
  },
  {
   "cell_type": "code",
   "execution_count": 5,
   "id": "b6075c3b",
   "metadata": {},
   "outputs": [],
   "source": [
    "def is_support(df, i):\n",
    "    sup = df['low'][i] < df['low'][i-1] and df['low'][i] < df['low'][i+1] and \\\n",
    "    df['low'][i+1] < df['low'][i+2] and df['low'][i-1] < df['low'][i-2]\n",
    "    return sup"
   ]
  },
  {
   "cell_type": "code",
   "execution_count": 6,
   "id": "921842d9",
   "metadata": {},
   "outputs": [],
   "source": [
    "def is_resistance(df, i):\n",
    "    res = df['high'][i] > df['high'][i-1]  and df['high'][i] > df['high'][i+1] \\\n",
    "    and df['high'][i+1] > df['high'][i+2] and df['high'][i-1] > df['high'][i-2]\n",
    "    return res"
   ]
  },
  {
   "cell_type": "code",
   "execution_count": 7,
   "id": "2f704f5b",
   "metadata": {},
   "outputs": [],
   "source": [
    "def is_far_from_level(l, s, levels):\n",
    "    return np.sum([abs(l-x) < s  for x in levels]) == 0"
   ]
  },
  {
   "cell_type": "code",
   "execution_count": 8,
   "id": "0c3d3e36",
   "metadata": {},
   "outputs": [
    {
     "name": "stdout",
     "output_type": "stream",
     "text": [
      "923.3777500000003\n"
     ]
    }
   ],
   "source": [
    "s = np.mean(df['high'] - df['low'])"
   ]
  },
  {
   "cell_type": "code",
   "execution_count": 9,
   "id": "d4124205",
   "metadata": {},
   "outputs": [],
   "source": [
    "levels = []\n",
    "for i in range(2, df.shape[0] - 2):\n",
    "    if is_support(df, i):\n",
    "        l = df['low'][i]\n",
    "        if is_far_from_level(l, s, levels):\n",
    "            levels.append((i, l))\n",
    "    elif is_resistance(df, i):\n",
    "        l = df['high'][i]\n",
    "        if is_far_from_level(l, s, levels):\n",
    "            levels.append((i, l))"
   ]
  },
  {
   "cell_type": "code",
   "execution_count": 10,
   "id": "47bb48c7",
   "metadata": {},
   "outputs": [
    {
     "data": {
      "image/png": "[encoded data removed]",
      "text/plain": [
       "<Figure size 864x576 with 1 Axes>"
      ]
     },
     "metadata": {
      "needs_background": "light"
     },
     "output_type": "display_data"
    }
   ],
   "source": [
    "fig, ax = plt.subplots(1, 1, figsize=(12,8))\n",
    "mpf.plot(df, type='candle', volume=False, ax=ax)\n",
    "for level in levels:\n",
    "    ax.hlines(level[1], xmin=level[0], xmax=n_data, colors='blue')"
   ]
  }
 ],
 "metadata": {
  "kernelspec": {
   "display_name": "Python 3 (ipykernel)",
   "language": "python",
   "name": "python3"
  },
  "language_info": {
   "codemirror_mode": {
    "name": "ipython",
    "version": 3
   },
   "file_extension": ".py",
   "mimetype": "text/x-python",
   "name": "python",
   "nbconvert_exporter": "python",
   "pygments_lexer": "ipython3",
   "version": "3.9.7"
  }
 },
 "nbformat": 4,
 "nbformat_minor": 5
}
